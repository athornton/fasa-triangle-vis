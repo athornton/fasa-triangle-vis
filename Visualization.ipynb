{
 "cells": [
  {
   "cell_type": "markdown",
   "id": "73e9d989-0f93-4dea-a8bf-622405b8b36e",
   "metadata": {
    "execution": {
     "iopub.execute_input": "2022-03-18T17:41:10.192834Z",
     "iopub.status.busy": "2022-03-18T17:41:10.192085Z",
     "iopub.status.idle": "2022-03-18T17:41:10.197053Z",
     "shell.execute_reply": "2022-03-18T17:41:10.196025Z",
     "shell.execute_reply.started": "2022-03-18T17:41:10.192767Z"
    }
   },
   "source": [
    "# Visualizing The Triangle"
   ]
  },
  {
   "cell_type": "markdown",
   "id": "836a6d2c-155a-42be-89bb-18fc878c1249",
   "metadata": {
    "execution": {
     "iopub.execute_input": "2022-03-18T17:38:39.045722Z",
     "iopub.status.busy": "2022-03-18T17:38:39.045060Z",
     "iopub.status.idle": "2022-03-18T17:38:39.088109Z",
     "shell.execute_reply": "2022-03-18T17:38:39.087434Z",
     "shell.execute_reply.started": "2022-03-18T17:38:39.045677Z"
    },
    "tags": []
   },
   "source": [
    "## Read the data and build derived columns"
   ]
  },
  {
   "cell_type": "code",
   "execution_count": null,
   "id": "b94b0ae3-922b-4a27-be1b-a8abc6681cd1",
   "metadata": {
    "tags": []
   },
   "outputs": [],
   "source": [
    "import pandas as pd\n",
    "\n",
    "df=pd.read_csv('Triangle_Atlas.csv')\n",
    "\n",
    "# replace NaN with string 'None' (for labels)\n",
    "df.fillna(value='None', inplace=True)\n",
    "\n",
    "df['Y']= -df['Y']  # They're all south\n",
    "# So dot notation works\n",
    "df.rename(columns={\"Import Index\": \"Imports\", \"Export Index\": \"Exports\"}, inplace=True) \n",
    "\n",
    "# Create derived columns\n",
    "\n",
    "# UFP: blue circle\n",
    "# Klingon: red square\n",
    "# Klingon client: darker red open square\n",
    "# Romulan: green cross\n",
    "# Independent: brownish open diamond\n",
    "# Others: yellowish diamond\n",
    "\n",
    "symbols={\n",
    "    \"Affiliation of Outer Worlds\": {\"color\": \"orange\",\n",
    "                                    \"marker\": \"diamond\"},\n",
    "    \"Imperial Klingon States\": {\"color\": \"firebrick\",\n",
    "                                \"marker\": \"square-open\"},\n",
    "    \"Independent Worlds\": {\"color\": \"darkgoldenrod\",\n",
    "                           \"marker\": \"diamond-open\"},\n",
    "    \"Klingon Empire\": { \"color\": \"red\",\n",
    "                       \"marker\": \"square\"},\n",
    "    \"Mantiev Colonial Association\": {\"color\": \"yellow\",\n",
    "                                     \"marker\": \"diamond\"},\n",
    "    \"Orion Frontier Mercantile Association\": {\"color\": \"yellowgreen\",\n",
    "                                              \"marker\": \"diamond\"},\n",
    "    \"Romulan Star Empire\": {\"color\": \"green\",\n",
    "                            \"marker\": \"cross\"},\n",
    "    \"UFP\": {\"color\": \"blue\",\n",
    "            \"marker\": \"circle\"}\n",
    "}\n",
    "\n",
    "ms = []\n",
    "cs = []\n",
    "an = []\n",
    "for r in df.itertuples(index=False):\n",
    "    k=r.Affiliation\n",
    "    i=r.Imports\n",
    "    e=r.Exports\n",
    "    ms.append(symbols[k]['marker'])\n",
    "    cs.append(symbols[k]['color'])\n",
    "    anno = f\"{r.Name}: {r.Affiliation}\\n\"\n",
    "    anno += f\"Imports: {i}\\n\"\n",
    "    anno += f\"Exports: {e}\"\n",
    "    an.append(anno)\n",
    "    \n",
    "df.insert(len(df.columns), 'Marker', ms)\n",
    "df.insert(len(df.columns), 'Color', cs)\n",
    "df.insert(len(df.columns), 'Annotation', an)"
   ]
  },
  {
   "cell_type": "markdown",
   "id": "ded40876-ae5c-4e6d-8c87-79ed6b67f04c",
   "metadata": {},
   "source": [
    "## Plot the data"
   ]
  },
  {
   "cell_type": "code",
   "execution_count": null,
   "id": "14a7a61d-9215-4592-99a9-fccda3fec662",
   "metadata": {
    "tags": []
   },
   "outputs": [],
   "source": [
    "import plotly.express as px\n",
    "\n",
    "fig = px.scatter_3d(data_frame=df, x='X', y='Y', z='Z',\n",
    "                    color='Color', color_discrete_map='identity',\n",
    "                    symbol='Marker',\n",
    "                    symbol_map='identity',\n",
    "                    title='The Triangle<br><sup>Coordinate Origin: Sol System</sup>',\n",
    "                    hover_data=['Name','Affiliation','Imports','Exports','X','Y','Z'],\n",
    "                    width=1200, height=800\n",
    "                   )\n",
    "\n",
    "fig.update_layout(scene = dict(\n",
    "                  xaxis_title='pc (spinward)',\n",
    "                  yaxis_title='pc (coreward)',\n",
    "                  zaxis_title='pc (galactic axis)',\n",
    "                  aspectmode='data'))\n",
    "fig.show()\n"
   ]
  }
 ],
 "metadata": {
  "kernelspec": {
   "display_name": "LSST",
   "language": "python",
   "name": "lsst"
  },
  "language_info": {
   "codemirror_mode": {
    "name": "ipython",
    "version": 3
   },
   "file_extension": ".py",
   "mimetype": "text/x-python",
   "name": "python",
   "nbconvert_exporter": "python",
   "pygments_lexer": "ipython3",
   "version": "3.8.12"
  }
 },
 "nbformat": 4,
 "nbformat_minor": 5
}
